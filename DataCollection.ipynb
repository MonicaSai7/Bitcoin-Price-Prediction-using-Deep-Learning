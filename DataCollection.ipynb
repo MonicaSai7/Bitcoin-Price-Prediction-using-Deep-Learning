{
 "cells": [
  {
   "cell_type": "code",
   "execution_count": 6,
   "metadata": {},
   "outputs": [],
   "source": [
    "import json\n",
    "import numpy as np\n",
    "import os\n",
    "import pandas as pd\n",
    "from urllib.request import urlopen"
   ]
  },
  {
   "cell_type": "code",
   "execution_count": 19,
   "metadata": {},
   "outputs": [
    {
     "name": "stdout",
     "output_type": "stream",
     "text": [
      "(19938, 8)\n"
     ]
    }
   ],
   "source": [
    "# connect to poloniex's API\n",
    "url = 'https://poloniex.com/public?command=returnChartData&currencyPair=USDT_BTC&start=1410241477&end=9999999999&period=7200'\n",
    "\n",
    "# parse json returned from the API to Pandas DF\n",
    "openUrl = urlopen(url)\n",
    "r = openUrl.read()\n",
    "openUrl.close()\n",
    "d = json.loads(r.decode())\n",
    "df = pd.DataFrame(d)\n",
    "print(df.shape)"
   ]
  },
  {
   "cell_type": "code",
   "execution_count": 20,
   "metadata": {},
   "outputs": [],
   "source": [
    "original_columns=[u'close', u'date', u'high', u'low', u'open']\n",
    "new_columns = ['Close','Timestamp','High','Low','Open']\n",
    "df = df.loc[:,original_columns]\n",
    "df.columns = new_columns\n",
    "df.to_csv('bitcoin2015to2019.csv',index=None)"
   ]
  },
  {
   "cell_type": "code",
   "execution_count": 21,
   "metadata": {},
   "outputs": [
    {
     "data": {
      "text/plain": [
       "(19938, 5)"
      ]
     },
     "execution_count": 21,
     "metadata": {},
     "output_type": "execute_result"
    }
   ],
   "source": [
    "df.shape"
   ]
  },
  {
   "cell_type": "code",
   "execution_count": 23,
   "metadata": {
    "scrolled": true
   },
   "outputs": [
    {
     "data": {
      "text/html": [
       "<div>\n",
       "<style scoped>\n",
       "    .dataframe tbody tr th:only-of-type {\n",
       "        vertical-align: middle;\n",
       "    }\n",
       "\n",
       "    .dataframe tbody tr th {\n",
       "        vertical-align: top;\n",
       "    }\n",
       "\n",
       "    .dataframe thead th {\n",
       "        text-align: right;\n",
       "    }\n",
       "</style>\n",
       "<table border=\"1\" class=\"dataframe\">\n",
       "  <thead>\n",
       "    <tr style=\"text-align: right;\">\n",
       "      <th></th>\n",
       "      <th>Close</th>\n",
       "      <th>Timestamp</th>\n",
       "      <th>High</th>\n",
       "      <th>Low</th>\n",
       "      <th>Open</th>\n",
       "    </tr>\n",
       "  </thead>\n",
       "  <tbody>\n",
       "    <tr>\n",
       "      <th>0</th>\n",
       "      <td>225.0</td>\n",
       "      <td>1424368800</td>\n",
       "      <td>225.0</td>\n",
       "      <td>225.0</td>\n",
       "      <td>225.0</td>\n",
       "    </tr>\n",
       "    <tr>\n",
       "      <th>1</th>\n",
       "      <td>244.0</td>\n",
       "      <td>1424376000</td>\n",
       "      <td>244.0</td>\n",
       "      <td>225.0</td>\n",
       "      <td>225.0</td>\n",
       "    </tr>\n",
       "    <tr>\n",
       "      <th>2</th>\n",
       "      <td>244.0</td>\n",
       "      <td>1424383200</td>\n",
       "      <td>244.0</td>\n",
       "      <td>244.0</td>\n",
       "      <td>244.0</td>\n",
       "    </tr>\n",
       "    <tr>\n",
       "      <th>3</th>\n",
       "      <td>244.0</td>\n",
       "      <td>1424390400</td>\n",
       "      <td>244.0</td>\n",
       "      <td>244.0</td>\n",
       "      <td>244.0</td>\n",
       "    </tr>\n",
       "    <tr>\n",
       "      <th>4</th>\n",
       "      <td>244.0</td>\n",
       "      <td>1424397600</td>\n",
       "      <td>244.0</td>\n",
       "      <td>244.0</td>\n",
       "      <td>244.0</td>\n",
       "    </tr>\n",
       "  </tbody>\n",
       "</table>\n",
       "</div>"
      ],
      "text/plain": [
       "   Close   Timestamp   High    Low   Open\n",
       "0  225.0  1424368800  225.0  225.0  225.0\n",
       "1  244.0  1424376000  244.0  225.0  225.0\n",
       "2  244.0  1424383200  244.0  244.0  244.0\n",
       "3  244.0  1424390400  244.0  244.0  244.0\n",
       "4  244.0  1424397600  244.0  244.0  244.0"
      ]
     },
     "execution_count": 23,
     "metadata": {},
     "output_type": "execute_result"
    }
   ],
   "source": [
    "df.head()"
   ]
  },
  {
   "cell_type": "code",
   "execution_count": 3,
   "metadata": {},
   "outputs": [],
   "source": [
    "ONE_YEAR = 31536000 # Number of seconds"
   ]
  },
  {
   "cell_type": "code",
   "execution_count": 1,
   "metadata": {},
   "outputs": [
    {
     "ename": "NameError",
     "evalue": "name 'd' is not defined",
     "output_type": "error",
     "traceback": [
      "\u001b[1;31m---------------------------------------------------------------------------\u001b[0m",
      "\u001b[1;31mNameError\u001b[0m                                 Traceback (most recent call last)",
      "\u001b[1;32m<ipython-input-1-e983f374794d>\u001b[0m in \u001b[0;36m<module>\u001b[1;34m\u001b[0m\n\u001b[1;32m----> 1\u001b[1;33m \u001b[0md\u001b[0m\u001b[1;33m\u001b[0m\u001b[1;33m\u001b[0m\u001b[0m\n\u001b[0m",
      "\u001b[1;31mNameError\u001b[0m: name 'd' is not defined"
     ]
    }
   ],
   "source": [
    "d"
   ]
  },
  {
   "cell_type": "code",
   "execution_count": 91,
   "metadata": {},
   "outputs": [
    {
     "data": {
      "text/plain": [
       "datetime.datetime(2016, 12, 13, 22, 42, 39)"
      ]
     },
     "execution_count": 91,
     "metadata": {},
     "output_type": "execute_result"
    }
   ],
   "source": [
    "from datetime import datetime\n",
    "datetime.fromtimestamp(1481649159)"
   ]
  },
  {
   "cell_type": "code",
   "execution_count": 11,
   "metadata": {},
   "outputs": [
    {
     "data": {
      "text/plain": [
       "1441777477"
      ]
     },
     "execution_count": 11,
     "metadata": {},
     "output_type": "execute_result"
    }
   ],
   "source": [
    "1410241477 + ONE_YEAR"
   ]
  },
  {
   "cell_type": "code",
   "execution_count": 83,
   "metadata": {},
   "outputs": [
    {
     "data": {
      "text/plain": [
       "datetime.datetime(2018, 1, 7, 22, 42, 39)"
      ]
     },
     "execution_count": 83,
     "metadata": {},
     "output_type": "execute_result"
    }
   ],
   "source": [
    "datetime.fromtimestamp(1515345159)"
   ]
  },
  {
   "cell_type": "code",
   "execution_count": 86,
   "metadata": {},
   "outputs": [
    {
     "data": {
      "text/plain": [
       "1549041159"
      ]
     },
     "execution_count": 86,
     "metadata": {},
     "output_type": "execute_result"
    }
   ],
   "source": [
    "from time import time\n",
    "1554657159 - ONE_YEAR * 1 + MONTH * 10"
   ]
  },
  {
   "cell_type": "code",
   "execution_count": 16,
   "metadata": {},
   "outputs": [
    {
     "data": {
      "text/plain": [
       "2592000"
      ]
     },
     "execution_count": 16,
     "metadata": {},
     "output_type": "execute_result"
    }
   ],
   "source": [
    "MONTH = 30 * 24 * 60 * 60\n",
    "MONTH"
   ]
  },
  {
   "cell_type": "code",
   "execution_count": 87,
   "metadata": {},
   "outputs": [
    {
     "name": "stdout",
     "output_type": "stream",
     "text": [
      "(18839, 8)\n"
     ]
    }
   ],
   "source": [
    "# connect to poloniex's API\n",
    "url = 'https://poloniex.com/public?command=returnChartData&currencyPair=USDT_BTC&start=1565889159&end=9999999999&period=300'\n",
    "\n",
    "# parse json returned from the API to Pandas DF\n",
    "openUrl = urlopen(url)\n",
    "r = openUrl.read()\n",
    "openUrl.close()\n",
    "d = json.loads(r.decode())\n",
    "Data = pd.DataFrame(d)\n",
    "print(Data.shape)"
   ]
  },
  {
   "cell_type": "code",
   "execution_count": 63,
   "metadata": {},
   "outputs": [
    {
     "name": "stdout",
     "output_type": "stream",
     "text": [
      "(18721, 8)\n"
     ]
    }
   ],
   "source": [
    "'''# connect to poloniex's API\n",
    "url = 'https://poloniex.com/public?command=returnChartData&currencyPair=USDT_BTC&start=1554657159&end=1560273159&period=300'\n",
    "\n",
    "# parse json returned from the API to Pandas DF\n",
    "openUrl = urlopen(url)\n",
    "r = openUrl.read()\n",
    "openUrl.close()\n",
    "d = json.loads(r.decode())\n",
    "df_ = pd.DataFrame(d)\n",
    "print(df_.shape)'''"
   ]
  },
  {
   "cell_type": "code",
   "execution_count": 57,
   "metadata": {},
   "outputs": [
    {
     "data": {
      "text/plain": [
       "(56168, 8)"
      ]
     },
     "execution_count": 57,
     "metadata": {},
     "output_type": "execute_result"
    }
   ],
   "source": [
    "'''Data = pd.concat([df, Data]).reset_index(drop = True) \n",
    "Data.shape'''"
   ]
  },
  {
   "cell_type": "code",
   "execution_count": 88,
   "metadata": {},
   "outputs": [
    {
     "name": "stdout",
     "output_type": "stream",
     "text": [
      "1560273159  -  1565889159\n",
      "(18721, 8)\n",
      "(37560, 8)\n",
      "1554657159  -  1560273159\n",
      "(18721, 8)\n",
      "(56281, 8)\n",
      "1549041159  -  1554657159\n",
      "(18721, 8)\n",
      "(75002, 8)\n",
      "1543425159  -  1549041159\n",
      "(18721, 8)\n",
      "(93723, 8)\n",
      "1537809159  -  1543425159\n",
      "(18721, 8)\n",
      "(112444, 8)\n",
      "1532193159  -  1537809159\n",
      "(18721, 8)\n",
      "(131165, 8)\n",
      "1526577159  -  1532193159\n",
      "(18721, 8)\n",
      "(149886, 8)\n",
      "1520961159  -  1526577159\n",
      "(18721, 8)\n",
      "(168607, 8)\n",
      "1515345159  -  1520961159\n",
      "(18721, 8)\n",
      "(187328, 8)\n",
      "1509729159  -  1515345159\n",
      "(18721, 8)\n",
      "(206049, 8)\n",
      "1504113159  -  1509729159\n",
      "(18721, 8)\n",
      "(224770, 8)\n",
      "1498497159  -  1504113159\n",
      "(18721, 8)\n",
      "(243491, 8)\n",
      "1492881159  -  1498497159\n",
      "(18721, 8)\n",
      "(262212, 8)\n",
      "1487265159  -  1492881159\n",
      "(18721, 8)\n",
      "(280933, 8)\n",
      "1481649159  -  1487265159\n",
      "(18721, 8)\n",
      "(299654, 8)\n"
     ]
    }
   ],
   "source": [
    "end = 1565889159 # Aug -> 2months from now\n",
    "start = end - ONE_YEAR * 1 + MONTH * 10 # # June\n",
    "\n",
    "for _ in range(15):\n",
    "# connect to poloniex's API\n",
    "    print(start,\" - \", end)\n",
    "    url = 'https://poloniex.com/public?command=returnChartData&currencyPair=USDT_BTC&start='+str(start)+'&end='+str(end)+'&period=300'\n",
    "\n",
    "# parse json returned from the API to Pandas DF\n",
    "    openUrl = urlopen(url)\n",
    "    r = openUrl.read()\n",
    "    openUrl.close()\n",
    "    d = json.loads(r.decode())\n",
    "    df = pd.DataFrame(d)\n",
    "    print(df.shape)\n",
    "    \n",
    "    Data = pd.concat([df, Data]).reset_index(drop = True)\n",
    "    print(Data.shape)\n",
    "    \n",
    "    end = start\n",
    "    start = end - ONE_YEAR * 1 + MONTH * 10"
   ]
  },
  {
   "cell_type": "code",
   "execution_count": 89,
   "metadata": {},
   "outputs": [
    {
     "data": {
      "text/html": [
       "<div>\n",
       "<style scoped>\n",
       "    .dataframe tbody tr th:only-of-type {\n",
       "        vertical-align: middle;\n",
       "    }\n",
       "\n",
       "    .dataframe tbody tr th {\n",
       "        vertical-align: top;\n",
       "    }\n",
       "\n",
       "    .dataframe thead th {\n",
       "        text-align: right;\n",
       "    }\n",
       "</style>\n",
       "<table border=\"1\" class=\"dataframe\">\n",
       "  <thead>\n",
       "    <tr style=\"text-align: right;\">\n",
       "      <th></th>\n",
       "      <th>date</th>\n",
       "      <th>high</th>\n",
       "      <th>low</th>\n",
       "      <th>open</th>\n",
       "      <th>close</th>\n",
       "      <th>volume</th>\n",
       "      <th>quoteVolume</th>\n",
       "      <th>weightedAverage</th>\n",
       "    </tr>\n",
       "  </thead>\n",
       "  <tbody>\n",
       "    <tr>\n",
       "      <th>0</th>\n",
       "      <td>1481649159</td>\n",
       "      <td>780.000000</td>\n",
       "      <td>780.00</td>\n",
       "      <td>780.000000</td>\n",
       "      <td>780.000000</td>\n",
       "      <td>0.000000</td>\n",
       "      <td>0.000000</td>\n",
       "      <td>780.000000</td>\n",
       "    </tr>\n",
       "    <tr>\n",
       "      <th>1</th>\n",
       "      <td>1481649300</td>\n",
       "      <td>780.999997</td>\n",
       "      <td>780.00</td>\n",
       "      <td>780.999997</td>\n",
       "      <td>780.999997</td>\n",
       "      <td>1207.759027</td>\n",
       "      <td>1.546434</td>\n",
       "      <td>780.996193</td>\n",
       "    </tr>\n",
       "    <tr>\n",
       "      <th>2</th>\n",
       "      <td>1481649600</td>\n",
       "      <td>780.391000</td>\n",
       "      <td>779.55</td>\n",
       "      <td>780.391000</td>\n",
       "      <td>779.550000</td>\n",
       "      <td>1717.519267</td>\n",
       "      <td>2.201928</td>\n",
       "      <td>780.007123</td>\n",
       "    </tr>\n",
       "    <tr>\n",
       "      <th>3</th>\n",
       "      <td>1481649900</td>\n",
       "      <td>779.550000</td>\n",
       "      <td>779.55</td>\n",
       "      <td>779.550000</td>\n",
       "      <td>779.550000</td>\n",
       "      <td>123.710781</td>\n",
       "      <td>0.158695</td>\n",
       "      <td>779.550000</td>\n",
       "    </tr>\n",
       "    <tr>\n",
       "      <th>4</th>\n",
       "      <td>1481650200</td>\n",
       "      <td>780.391000</td>\n",
       "      <td>779.55</td>\n",
       "      <td>779.550000</td>\n",
       "      <td>780.391000</td>\n",
       "      <td>342.298172</td>\n",
       "      <td>0.438981</td>\n",
       "      <td>779.756059</td>\n",
       "    </tr>\n",
       "  </tbody>\n",
       "</table>\n",
       "</div>"
      ],
      "text/plain": [
       "         date        high     low        open       close       volume  \\\n",
       "0  1481649159  780.000000  780.00  780.000000  780.000000     0.000000   \n",
       "1  1481649300  780.999997  780.00  780.999997  780.999997  1207.759027   \n",
       "2  1481649600  780.391000  779.55  780.391000  779.550000  1717.519267   \n",
       "3  1481649900  779.550000  779.55  779.550000  779.550000   123.710781   \n",
       "4  1481650200  780.391000  779.55  779.550000  780.391000   342.298172   \n",
       "\n",
       "   quoteVolume  weightedAverage  \n",
       "0     0.000000       780.000000  \n",
       "1     1.546434       780.996193  \n",
       "2     2.201928       780.007123  \n",
       "3     0.158695       779.550000  \n",
       "4     0.438981       779.756059  "
      ]
     },
     "execution_count": 89,
     "metadata": {},
     "output_type": "execute_result"
    }
   ],
   "source": [
    "df.head()"
   ]
  },
  {
   "cell_type": "code",
   "execution_count": 90,
   "metadata": {},
   "outputs": [
    {
     "data": {
      "text/html": [
       "<div>\n",
       "<style scoped>\n",
       "    .dataframe tbody tr th:only-of-type {\n",
       "        vertical-align: middle;\n",
       "    }\n",
       "\n",
       "    .dataframe tbody tr th {\n",
       "        vertical-align: top;\n",
       "    }\n",
       "\n",
       "    .dataframe thead th {\n",
       "        text-align: right;\n",
       "    }\n",
       "</style>\n",
       "<table border=\"1\" class=\"dataframe\">\n",
       "  <thead>\n",
       "    <tr style=\"text-align: right;\">\n",
       "      <th></th>\n",
       "      <th>date</th>\n",
       "      <th>high</th>\n",
       "      <th>low</th>\n",
       "      <th>open</th>\n",
       "      <th>close</th>\n",
       "      <th>volume</th>\n",
       "      <th>quoteVolume</th>\n",
       "      <th>weightedAverage</th>\n",
       "    </tr>\n",
       "  </thead>\n",
       "  <tbody>\n",
       "    <tr>\n",
       "      <th>0</th>\n",
       "      <td>1481649159</td>\n",
       "      <td>780.000000</td>\n",
       "      <td>780.00</td>\n",
       "      <td>780.000000</td>\n",
       "      <td>780.000000</td>\n",
       "      <td>0.000000</td>\n",
       "      <td>0.000000</td>\n",
       "      <td>780.000000</td>\n",
       "    </tr>\n",
       "    <tr>\n",
       "      <th>1</th>\n",
       "      <td>1481649300</td>\n",
       "      <td>780.999997</td>\n",
       "      <td>780.00</td>\n",
       "      <td>780.999997</td>\n",
       "      <td>780.999997</td>\n",
       "      <td>1207.759027</td>\n",
       "      <td>1.546434</td>\n",
       "      <td>780.996193</td>\n",
       "    </tr>\n",
       "    <tr>\n",
       "      <th>2</th>\n",
       "      <td>1481649600</td>\n",
       "      <td>780.391000</td>\n",
       "      <td>779.55</td>\n",
       "      <td>780.391000</td>\n",
       "      <td>779.550000</td>\n",
       "      <td>1717.519267</td>\n",
       "      <td>2.201928</td>\n",
       "      <td>780.007123</td>\n",
       "    </tr>\n",
       "    <tr>\n",
       "      <th>3</th>\n",
       "      <td>1481649900</td>\n",
       "      <td>779.550000</td>\n",
       "      <td>779.55</td>\n",
       "      <td>779.550000</td>\n",
       "      <td>779.550000</td>\n",
       "      <td>123.710781</td>\n",
       "      <td>0.158695</td>\n",
       "      <td>779.550000</td>\n",
       "    </tr>\n",
       "    <tr>\n",
       "      <th>4</th>\n",
       "      <td>1481650200</td>\n",
       "      <td>780.391000</td>\n",
       "      <td>779.55</td>\n",
       "      <td>779.550000</td>\n",
       "      <td>780.391000</td>\n",
       "      <td>342.298172</td>\n",
       "      <td>0.438981</td>\n",
       "      <td>779.756059</td>\n",
       "    </tr>\n",
       "  </tbody>\n",
       "</table>\n",
       "</div>"
      ],
      "text/plain": [
       "         date        high     low        open       close       volume  \\\n",
       "0  1481649159  780.000000  780.00  780.000000  780.000000     0.000000   \n",
       "1  1481649300  780.999997  780.00  780.999997  780.999997  1207.759027   \n",
       "2  1481649600  780.391000  779.55  780.391000  779.550000  1717.519267   \n",
       "3  1481649900  779.550000  779.55  779.550000  779.550000   123.710781   \n",
       "4  1481650200  780.391000  779.55  779.550000  780.391000   342.298172   \n",
       "\n",
       "   quoteVolume  weightedAverage  \n",
       "0     0.000000       780.000000  \n",
       "1     1.546434       780.996193  \n",
       "2     2.201928       780.007123  \n",
       "3     0.158695       779.550000  \n",
       "4     0.438981       779.756059  "
      ]
     },
     "execution_count": 90,
     "metadata": {},
     "output_type": "execute_result"
    }
   ],
   "source": [
    "Data.head()"
   ]
  },
  {
   "cell_type": "code",
   "execution_count": 75,
   "metadata": {},
   "outputs": [
    {
     "data": {
      "text/plain": [
       "1560306600"
      ]
     },
     "execution_count": 75,
     "metadata": {},
     "output_type": "execute_result"
    }
   ],
   "source": [
    "Data.iloc[37556,0]"
   ]
  },
  {
   "cell_type": "code",
   "execution_count": 93,
   "metadata": {},
   "outputs": [],
   "source": [
    "original_columns=[u'close', u'date', u'high', u'low', u'open']\n",
    "new_columns = ['Close','Timestamp','High','Low','Open']\n",
    "df = Data.loc[:,original_columns]\n",
    "df.columns = new_columns\n",
    "df.to_csv('bitcoin2016-12to2019-10.csv',index=None)"
   ]
  },
  {
   "cell_type": "code",
   "execution_count": null,
   "metadata": {},
   "outputs": [],
   "source": []
  }
 ],
 "metadata": {
  "kernelspec": {
   "display_name": "Python 3",
   "language": "python",
   "name": "python3"
  },
  "language_info": {
   "codemirror_mode": {
    "name": "ipython",
    "version": 3
   },
   "file_extension": ".py",
   "mimetype": "text/x-python",
   "name": "python",
   "nbconvert_exporter": "python",
   "pygments_lexer": "ipython3",
   "version": "3.7.4"
  }
 },
 "nbformat": 4,
 "nbformat_minor": 2
}
